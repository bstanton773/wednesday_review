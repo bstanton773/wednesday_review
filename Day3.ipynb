{
 "cells": [
  {
   "cell_type": "code",
   "execution_count": null,
   "metadata": {},
   "outputs": [],
   "source": []
  },
  {
   "cell_type": "code",
   "execution_count": null,
   "metadata": {},
   "outputs": [],
   "source": []
  },
  {
   "cell_type": "code",
   "execution_count": null,
   "metadata": {},
   "outputs": [],
   "source": []
  },
  {
   "cell_type": "markdown",
   "metadata": {},
   "source": [
    "### Tuples"
   ]
  },
  {
   "cell_type": "markdown",
   "metadata": {},
   "source": [
    "Tuples are similar to lists except that they are immutable meaning they can not be changed once defined"
   ]
  },
  {
   "cell_type": "code",
   "execution_count": 7,
   "metadata": {},
   "outputs": [
    {
     "name": "stdout",
     "output_type": "stream",
     "text": [
      "(1, 2, 3)\n",
      "<class 'tuple'>\n",
      "(1, 2, 3)\n",
      "<class 'tuple'>\n"
     ]
    }
   ],
   "source": [
    "# Syntax for creating a tuple var = (,)\n",
    "\n",
    "tup_1 = (1, 2, 3)\n",
    "print(tup_1)\n",
    "print(type(tup_1))\n",
    "\n",
    "tup_2 = 1, 2, 3\n",
    "print(tup_2)\n",
    "print(type(tup_2))"
   ]
  },
  {
   "cell_type": "code",
   "execution_count": 16,
   "metadata": {},
   "outputs": [
    {
     "name": "stdout",
     "output_type": "stream",
     "text": [
      "2\n",
      "(1, 2)\n",
      "(2, 3)\n",
      "(3, 2, 1)\n"
     ]
    },
    {
     "ename": "TypeError",
     "evalue": "'tuple' object does not support item assignment",
     "output_type": "error",
     "traceback": [
      "\u001b[1;31m---------------------------------------------------------------------------\u001b[0m",
      "\u001b[1;31mTypeError\u001b[0m                                 Traceback (most recent call last)",
      "\u001b[1;32m<ipython-input-16-2eae344c301f>\u001b[0m in \u001b[0;36m<module>\u001b[1;34m\u001b[0m\n\u001b[0;32m     13\u001b[0m \u001b[1;33m\u001b[0m\u001b[0m\n\u001b[0;32m     14\u001b[0m \u001b[1;31m# CANNOT ASSIGN VALUES\u001b[0m\u001b[1;33m\u001b[0m\u001b[1;33m\u001b[0m\u001b[1;33m\u001b[0m\u001b[0m\n\u001b[1;32m---> 15\u001b[1;33m \u001b[0mtup_1\u001b[0m\u001b[1;33m[\u001b[0m\u001b[1;36m0\u001b[0m\u001b[1;33m]\u001b[0m \u001b[1;33m=\u001b[0m \u001b[1;36m10\u001b[0m\u001b[1;33m\u001b[0m\u001b[1;33m\u001b[0m\u001b[0m\n\u001b[0m",
      "\u001b[1;31mTypeError\u001b[0m: 'tuple' object does not support item assignment"
     ]
    }
   ],
   "source": [
    "# Similar to lists, we can index our tuples\n",
    "\n",
    "# Access 1 element in a tuple\n",
    "print(tup_1[1])\n",
    "\n",
    "# Slice a tuple\n",
    "print(tup_1[:2])\n",
    "print(tup_1[1:])\n",
    "\n",
    "# Step through a tuple slice\n",
    "print(tup_1[::-1])\n",
    "\n",
    "\n",
    "# CANNOT ASSIGN VALUES\n",
    "tup_1[0] = 10"
   ]
  },
  {
   "cell_type": "code",
   "execution_count": 25,
   "metadata": {
    "scrolled": true
   },
   "outputs": [
    {
     "name": "stdout",
     "output_type": "stream",
     "text": [
      "['__add__', '__class__', '__contains__', '__delattr__', '__dir__', '__doc__', '__eq__', '__format__', '__ge__', '__getattribute__', '__getitem__', '__getnewargs__', '__gt__', '__hash__', '__init__', '__init_subclass__', '__iter__', '__le__', '__len__', '__lt__', '__mul__', '__ne__', '__new__', '__reduce__', '__reduce_ex__', '__repr__', '__rmul__', '__setattr__', '__sizeof__', '__str__', '__subclasshook__', 'count', 'index']\n"
     ]
    }
   ],
   "source": [
    "print(dir(tuple))"
   ]
  },
  {
   "cell_type": "code",
   "execution_count": 24,
   "metadata": {
    "scrolled": true
   },
   "outputs": [
    {
     "name": "stdout",
     "output_type": "stream",
     "text": [
      "['__add__', '__class__', '__contains__', '__delattr__', '__delitem__', '__dir__', '__doc__', '__eq__', '__format__', '__ge__', '__getattribute__', '__getitem__', '__gt__', '__hash__', '__iadd__', '__imul__', '__init__', '__init_subclass__', '__iter__', '__le__', '__len__', '__lt__', '__mul__', '__ne__', '__new__', '__reduce__', '__reduce_ex__', '__repr__', '__reversed__', '__rmul__', '__setattr__', '__setitem__', '__sizeof__', '__str__', '__subclasshook__', 'append', 'clear', 'copy', 'count', 'extend', 'index', 'insert', 'pop', 'remove', 'reverse', 'sort']\n"
     ]
    }
   ],
   "source": [
    "print(dir(list))"
   ]
  },
  {
   "cell_type": "code",
   "execution_count": 21,
   "metadata": {},
   "outputs": [
    {
     "name": "stdout",
     "output_type": "stream",
     "text": [
      "('String', 1, 2.34, <function some_func at 0x000001A56967BB80>, [1, 2, 3], (1, 2))\n"
     ]
    }
   ],
   "source": [
    "def some_func():\n",
    "    return 1\n",
    "\n",
    "tup_3 = ('String', 1, 2.34, some_func, [1, 2, 3], (1,2))\n",
    "print(tup_3)"
   ]
  },
  {
   "cell_type": "code",
   "execution_count": 22,
   "metadata": {},
   "outputs": [
    {
     "name": "stdout",
     "output_type": "stream",
     "text": [
      "String\n",
      "1\n",
      "2.34\n",
      "<function some_func at 0x000001A56967BB80>\n",
      "[1, 2, 3]\n",
      "(1, 2)\n"
     ]
    }
   ],
   "source": [
    "for elem in tup_3:\n",
    "    print(elem)"
   ]
  },
  {
   "cell_type": "code",
   "execution_count": 26,
   "metadata": {},
   "outputs": [
    {
     "name": "stdout",
     "output_type": "stream",
     "text": [
      "[1, 2, 3, 4, 5, 6]\n"
     ]
    }
   ],
   "source": [
    "list1 = [1, 2, 3]\n",
    "list2 = [4, 5, 6]\n",
    "list3 = list1 + list2\n",
    "print(list3)"
   ]
  },
  {
   "cell_type": "code",
   "execution_count": 28,
   "metadata": {},
   "outputs": [
    {
     "name": "stdout",
     "output_type": "stream",
     "text": [
      "(1, 2, 3, 4, 5, 6)\n"
     ]
    }
   ],
   "source": [
    "tup1 = (1, 2, 3)\n",
    "tup2 = (4, 5, 6)\n",
    "tup3 = tup1 + tup2\n",
    "print(tup3)"
   ]
  },
  {
   "cell_type": "code",
   "execution_count": 31,
   "metadata": {},
   "outputs": [
    {
     "data": {
      "text/plain": [
       "(1, 2, 3, 4, 5, 6)"
      ]
     },
     "execution_count": 31,
     "metadata": {},
     "output_type": "execute_result"
    }
   ],
   "source": [
    "tup3"
   ]
  },
  {
   "cell_type": "code",
   "execution_count": 32,
   "metadata": {},
   "outputs": [
    {
     "data": {
      "text/plain": [
       "6"
      ]
     },
     "execution_count": 32,
     "metadata": {},
     "output_type": "execute_result"
    }
   ],
   "source": [
    "len(tup3)"
   ]
  },
  {
   "cell_type": "code",
   "execution_count": 35,
   "metadata": {},
   "outputs": [
    {
     "name": "stdout",
     "output_type": "stream",
     "text": [
      "0 String\n",
      "1 1\n",
      "2 2.34\n",
      "3 <function some_func at 0x000001A56967BB80>\n",
      "4 [1, 2, 3]\n",
      "5 (1, 2)\n"
     ]
    }
   ],
   "source": [
    "for i in range(len(tup_3)):\n",
    "    print(i, tup_3[i])"
   ]
  },
  {
   "cell_type": "code",
   "execution_count": 36,
   "metadata": {},
   "outputs": [
    {
     "data": {
      "text/plain": [
       "dict_items([('a', 1), ('b', 2), ('c', 3)])"
      ]
     },
     "execution_count": 36,
     "metadata": {},
     "output_type": "execute_result"
    }
   ],
   "source": [
    "a_dict = {\n",
    "    'a': 1,\n",
    "    'b': 2,\n",
    "    'c': 3\n",
    "}\n",
    "\n",
    "a_dict.items()"
   ]
  },
  {
   "cell_type": "code",
   "execution_count": 37,
   "metadata": {},
   "outputs": [
    {
     "data": {
      "text/plain": [
       "(1, 2, 3, 4, 5, 6)"
      ]
     },
     "execution_count": 37,
     "metadata": {},
     "output_type": "execute_result"
    }
   ],
   "source": [
    "tup3"
   ]
  },
  {
   "cell_type": "code",
   "execution_count": 38,
   "metadata": {},
   "outputs": [
    {
     "name": "stdout",
     "output_type": "stream",
     "text": [
      "[1, 2, 3, 4, 5, 8]\n"
     ]
    }
   ],
   "source": [
    "tup4 = (4, 8, 2, 5, 1, 3)\n",
    "\n",
    "sorted_tuple = sorted(tup4)\n",
    "\n",
    "print(sorted_tuple)"
   ]
  },
  {
   "cell_type": "code",
   "execution_count": 42,
   "metadata": {},
   "outputs": [
    {
     "name": "stdout",
     "output_type": "stream",
     "text": [
      "Help on built-in function sorted in module builtins:\n",
      "\n",
      "sorted(iterable, /, *, key=None, reverse=False)\n",
      "    Return a new list containing all items from the iterable in ascending order.\n",
      "    \n",
      "    A custom key function can be supplied to customize the sort order, and the\n",
      "    reverse flag can be set to request the result in descending order.\n",
      "\n"
     ]
    }
   ],
   "source": [
    "help(sorted)"
   ]
  },
  {
   "cell_type": "markdown",
   "metadata": {},
   "source": [
    "### Dictionaries"
   ]
  },
  {
   "cell_type": "code",
   "execution_count": 49,
   "metadata": {},
   "outputs": [
    {
     "name": "stdout",
     "output_type": "stream",
     "text": [
      "{}\n",
      "<class 'dict'>\n",
      "{}\n",
      "<class 'dict'>\n",
      "{'key': 'value'}\n",
      "<class 'dict'>\n"
     ]
    }
   ],
   "source": [
    "# Syntax- var = {} or var = dict() or var = {key : value} \n",
    "\n",
    "dict1 = {}\n",
    "print(dict1)\n",
    "print(type(dict1))\n",
    "\n",
    "dict2 = dict()\n",
    "print(dict2)\n",
    "print(type(dict2))\n",
    "\n",
    "\n",
    "dict3 = {'key': 'value'}\n",
    "print(dict3)\n",
    "print(type(dict3))"
   ]
  },
  {
   "cell_type": "code",
   "execution_count": 65,
   "metadata": {},
   "outputs": [
    {
     "data": {
      "text/plain": [
       "'BRIAN'"
      ]
     },
     "execution_count": 65,
     "metadata": {},
     "output_type": "execute_result"
    }
   ],
   "source": [
    "my_info = {\n",
    "    'first_name': 'Brian',\n",
    "    'last_name': 'Stanton',\n",
    "    'age': 27,\n",
    "    'hair_color': 'brown',\n",
    "    'eye_color': 'blue'\n",
    "}\n",
    "\n",
    "# Accessing values in a dictionary - dict[key]\n",
    "\n",
    "my_info['age']\n",
    "\n",
    "my_info['first_name'].upper()"
   ]
  },
  {
   "cell_type": "code",
   "execution_count": 66,
   "metadata": {},
   "outputs": [
    {
     "name": "stdout",
     "output_type": "stream",
     "text": [
      "{'first_name': 'Brian', 'last_name': 'Stanton', 'age': 27, 'hair_color': 'brown', 'eye_color': 'blue'}\n",
      "{'first_name': 'Brian', 'last_name': 'Stanton', 'age': 27, 'hair_color': 'brown', 'eye_color': 'blue', 'hometown': 'Chicago'}\n",
      "{'first_name': 'Brian', 'last_name': 'Stanton', 'age': 27, 'hair_color': 'purple', 'eye_color': 'blue', 'hometown': 'Chicago'}\n",
      "{'first_name': 'Brian', 'last_name': 'Stanton', 'age': 27, 'hair_color': 'purple', 'hometown': 'Chicago'}\n"
     ]
    }
   ],
   "source": [
    "# Mutate the data\n",
    "print(my_info)\n",
    "# Add data to the dictionary - dict[new_key] = value\n",
    "my_info['hometown'] = 'Chicago'\n",
    "\n",
    "print(my_info)\n",
    "\n",
    "# Change existing data - dict[existing_key] = new_value\n",
    "my_info['hair_color'] = 'purple'\n",
    "print(my_info)\n",
    "\n",
    "# Remove data from dictionary - del dict[key_to_delete]\n",
    "del my_info['eye_color']\n",
    "\n",
    "print(my_info)"
   ]
  },
  {
   "cell_type": "code",
   "execution_count": 67,
   "metadata": {},
   "outputs": [
    {
     "ename": "KeyError",
     "evalue": "'blue'",
     "output_type": "error",
     "traceback": [
      "\u001b[1;31m---------------------------------------------------------------------------\u001b[0m",
      "\u001b[1;31mKeyError\u001b[0m                                  Traceback (most recent call last)",
      "\u001b[1;32m<ipython-input-67-0651b5ddd025>\u001b[0m in \u001b[0;36m<module>\u001b[1;34m\u001b[0m\n\u001b[1;32m----> 1\u001b[1;33m \u001b[1;32mdel\u001b[0m \u001b[0mmy_info\u001b[0m\u001b[1;33m[\u001b[0m\u001b[1;34m'blue'\u001b[0m\u001b[1;33m]\u001b[0m\u001b[1;33m\u001b[0m\u001b[1;33m\u001b[0m\u001b[0m\n\u001b[0m",
      "\u001b[1;31mKeyError\u001b[0m: 'blue'"
     ]
    }
   ],
   "source": [
    "del my_info['blue']"
   ]
  },
  {
   "cell_type": "code",
   "execution_count": 68,
   "metadata": {},
   "outputs": [
    {
     "data": {
      "text/plain": [
       "{'first_name': 'Brian',\n",
       " 'last_name': 'Stanton',\n",
       " 'age': 27,\n",
       " 'hair_color': 'purple',\n",
       " 'hometown': 'Chicago'}"
      ]
     },
     "execution_count": 68,
     "metadata": {},
     "output_type": "execute_result"
    }
   ],
   "source": [
    "# Print out a formatted string from the dictionary:\n",
    "# Output: \"Hello, my name is Brian Stanton and I am 27 years old and have purple hair and was born in Chicago\"\n",
    "\n",
    "my_info"
   ]
  },
  {
   "cell_type": "code",
   "execution_count": 69,
   "metadata": {},
   "outputs": [
    {
     "data": {
      "text/plain": [
       "'Brian'"
      ]
     },
     "execution_count": 69,
     "metadata": {},
     "output_type": "execute_result"
    }
   ],
   "source": [
    "my_info['first_name']"
   ]
  },
  {
   "cell_type": "code",
   "execution_count": 71,
   "metadata": {},
   "outputs": [
    {
     "data": {
      "text/plain": [
       "'Stanton'"
      ]
     },
     "execution_count": 71,
     "metadata": {},
     "output_type": "execute_result"
    }
   ],
   "source": [
    "my_info['last_name']"
   ]
  },
  {
   "cell_type": "code",
   "execution_count": 72,
   "metadata": {},
   "outputs": [
    {
     "data": {
      "text/plain": [
       "27"
      ]
     },
     "execution_count": 72,
     "metadata": {},
     "output_type": "execute_result"
    }
   ],
   "source": [
    "my_info['age']"
   ]
  },
  {
   "cell_type": "code",
   "execution_count": 73,
   "metadata": {},
   "outputs": [
    {
     "data": {
      "text/plain": [
       "'purple'"
      ]
     },
     "execution_count": 73,
     "metadata": {},
     "output_type": "execute_result"
    }
   ],
   "source": [
    "my_info['hair_color']"
   ]
  },
  {
   "cell_type": "code",
   "execution_count": 74,
   "metadata": {},
   "outputs": [
    {
     "data": {
      "text/plain": [
       "'Chicago'"
      ]
     },
     "execution_count": 74,
     "metadata": {},
     "output_type": "execute_result"
    }
   ],
   "source": [
    "my_info['hometown']"
   ]
  },
  {
   "cell_type": "code",
   "execution_count": 76,
   "metadata": {},
   "outputs": [
    {
     "name": "stdout",
     "output_type": "stream",
     "text": [
      "Hello, my name is Brian Stanton and I am 27 years old and have purple hair and was born in Chicago\n"
     ]
    }
   ],
   "source": [
    "print(f\"Hello, my name is {my_info['first_name']} {my_info['last_name']} and \\\n",
    "I am {my_info['age']} years old and have {my_info['hair_color']} hair and \\\n",
    "was born in {my_info['hometown']}\")"
   ]
  },
  {
   "cell_type": "code",
   "execution_count": 78,
   "metadata": {},
   "outputs": [
    {
     "name": "stdout",
     "output_type": "stream",
     "text": [
      "Hello I am Brian\n"
     ]
    }
   ],
   "source": [
    "print(f'Hello I am {my_info[\"first_name\"]}')"
   ]
  },
  {
   "cell_type": "code",
   "execution_count": 79,
   "metadata": {},
   "outputs": [
    {
     "name": "stdout",
     "output_type": "stream",
     "text": [
      "Help on dict object:\n",
      "\n",
      "class dict(object)\n",
      " |  dict() -> new empty dictionary\n",
      " |  dict(mapping) -> new dictionary initialized from a mapping object's\n",
      " |      (key, value) pairs\n",
      " |  dict(iterable) -> new dictionary initialized as if via:\n",
      " |      d = {}\n",
      " |      for k, v in iterable:\n",
      " |          d[k] = v\n",
      " |  dict(**kwargs) -> new dictionary initialized with the name=value pairs\n",
      " |      in the keyword argument list.  For example:  dict(one=1, two=2)\n",
      " |  \n",
      " |  Built-in subclasses:\n",
      " |      StgDict\n",
      " |  \n",
      " |  Methods defined here:\n",
      " |  \n",
      " |  __contains__(self, key, /)\n",
      " |      True if the dictionary has the specified key, else False.\n",
      " |  \n",
      " |  __delitem__(self, key, /)\n",
      " |      Delete self[key].\n",
      " |  \n",
      " |  __eq__(self, value, /)\n",
      " |      Return self==value.\n",
      " |  \n",
      " |  __ge__(self, value, /)\n",
      " |      Return self>=value.\n",
      " |  \n",
      " |  __getattribute__(self, name, /)\n",
      " |      Return getattr(self, name).\n",
      " |  \n",
      " |  __getitem__(...)\n",
      " |      x.__getitem__(y) <==> x[y]\n",
      " |  \n",
      " |  __gt__(self, value, /)\n",
      " |      Return self>value.\n",
      " |  \n",
      " |  __init__(self, /, *args, **kwargs)\n",
      " |      Initialize self.  See help(type(self)) for accurate signature.\n",
      " |  \n",
      " |  __iter__(self, /)\n",
      " |      Implement iter(self).\n",
      " |  \n",
      " |  __le__(self, value, /)\n",
      " |      Return self<=value.\n",
      " |  \n",
      " |  __len__(self, /)\n",
      " |      Return len(self).\n",
      " |  \n",
      " |  __lt__(self, value, /)\n",
      " |      Return self<value.\n",
      " |  \n",
      " |  __ne__(self, value, /)\n",
      " |      Return self!=value.\n",
      " |  \n",
      " |  __repr__(self, /)\n",
      " |      Return repr(self).\n",
      " |  \n",
      " |  __reversed__(self, /)\n",
      " |      Return a reverse iterator over the dict keys.\n",
      " |  \n",
      " |  __setitem__(self, key, value, /)\n",
      " |      Set self[key] to value.\n",
      " |  \n",
      " |  __sizeof__(...)\n",
      " |      D.__sizeof__() -> size of D in memory, in bytes\n",
      " |  \n",
      " |  clear(...)\n",
      " |      D.clear() -> None.  Remove all items from D.\n",
      " |  \n",
      " |  copy(...)\n",
      " |      D.copy() -> a shallow copy of D\n",
      " |  \n",
      " |  get(self, key, default=None, /)\n",
      " |      Return the value for key if key is in the dictionary, else default.\n",
      " |  \n",
      " |  items(...)\n",
      " |      D.items() -> a set-like object providing a view on D's items\n",
      " |  \n",
      " |  keys(...)\n",
      " |      D.keys() -> a set-like object providing a view on D's keys\n",
      " |  \n",
      " |  pop(...)\n",
      " |      D.pop(k[,d]) -> v, remove specified key and return the corresponding value.\n",
      " |      If key is not found, d is returned if given, otherwise KeyError is raised\n",
      " |  \n",
      " |  popitem(self, /)\n",
      " |      Remove and return a (key, value) pair as a 2-tuple.\n",
      " |      \n",
      " |      Pairs are returned in LIFO (last-in, first-out) order.\n",
      " |      Raises KeyError if the dict is empty.\n",
      " |  \n",
      " |  setdefault(self, key, default=None, /)\n",
      " |      Insert key with a value of default if key is not in the dictionary.\n",
      " |      \n",
      " |      Return the value for key if key is in the dictionary, else default.\n",
      " |  \n",
      " |  update(...)\n",
      " |      D.update([E, ]**F) -> None.  Update D from dict/iterable E and F.\n",
      " |      If E is present and has a .keys() method, then does:  for k in E: D[k] = E[k]\n",
      " |      If E is present and lacks a .keys() method, then does:  for k, v in E: D[k] = v\n",
      " |      In either case, this is followed by: for k in F:  D[k] = F[k]\n",
      " |  \n",
      " |  values(...)\n",
      " |      D.values() -> an object providing a view on D's values\n",
      " |  \n",
      " |  ----------------------------------------------------------------------\n",
      " |  Class methods defined here:\n",
      " |  \n",
      " |  fromkeys(iterable, value=None, /) from builtins.type\n",
      " |      Create a new dictionary with keys from iterable and values set to value.\n",
      " |  \n",
      " |  ----------------------------------------------------------------------\n",
      " |  Static methods defined here:\n",
      " |  \n",
      " |  __new__(*args, **kwargs) from builtins.type\n",
      " |      Create and return a new object.  See help(type) for accurate signature.\n",
      " |  \n",
      " |  ----------------------------------------------------------------------\n",
      " |  Data and other attributes defined here:\n",
      " |  \n",
      " |  __hash__ = None\n",
      "\n"
     ]
    }
   ],
   "source": [
    "help(my_info)"
   ]
  },
  {
   "cell_type": "code",
   "execution_count": 85,
   "metadata": {},
   "outputs": [
    {
     "name": "stdout",
     "output_type": "stream",
     "text": [
      "first_name\n",
      "last_name\n",
      "age\n",
      "hair_color\n",
      "hometown\n"
     ]
    }
   ],
   "source": [
    "# Dictionary keys via the .keys() method\n",
    "my_info.keys()\n",
    "\n",
    "for key in my_info.keys():\n",
    "    print(key)\n"
   ]
  },
  {
   "cell_type": "code",
   "execution_count": 87,
   "metadata": {},
   "outputs": [
    {
     "name": "stdout",
     "output_type": "stream",
     "text": [
      "Brian\n",
      "Stanton\n",
      "27\n",
      "purple\n",
      "Chicago\n"
     ]
    }
   ],
   "source": [
    "# Dictionary values via the .values() method\n",
    "\n",
    "my_info.values()\n",
    "\n",
    "for value in my_info.values():\n",
    "    print(value)"
   ]
  },
  {
   "cell_type": "code",
   "execution_count": 89,
   "metadata": {},
   "outputs": [
    {
     "name": "stdout",
     "output_type": "stream",
     "text": [
      "('first_name', 'Brian')\n",
      "('last_name', 'Stanton')\n",
      "('age', 27)\n",
      "('hair_color', 'purple')\n",
      "('hometown', 'Chicago')\n"
     ]
    }
   ],
   "source": [
    "# Dictionary key and values via the .items() method\n",
    "my_info.items()\n",
    "\n",
    "for item in my_info.items():\n",
    "    print(item)"
   ]
  },
  {
   "cell_type": "code",
   "execution_count": 98,
   "metadata": {},
   "outputs": [],
   "source": [
    "my_item = ('middle_name', 'Patrick')\n",
    "\n",
    "key, value = ('middle_name', 'Patrick')"
   ]
  },
  {
   "cell_type": "code",
   "execution_count": 99,
   "metadata": {},
   "outputs": [
    {
     "data": {
      "text/plain": [
       "'middle_name'"
      ]
     },
     "execution_count": 99,
     "metadata": {},
     "output_type": "execute_result"
    }
   ],
   "source": [
    "key"
   ]
  },
  {
   "cell_type": "code",
   "execution_count": 100,
   "metadata": {},
   "outputs": [
    {
     "data": {
      "text/plain": [
       "'Patrick'"
      ]
     },
     "execution_count": 100,
     "metadata": {},
     "output_type": "execute_result"
    }
   ],
   "source": [
    "value"
   ]
  },
  {
   "cell_type": "code",
   "execution_count": 102,
   "metadata": {},
   "outputs": [
    {
     "name": "stdout",
     "output_type": "stream",
     "text": [
      "Key: first_name Value: Brian\n",
      "Key: last_name Value: Stanton\n",
      "Key: age Value: 27\n",
      "Key: hair_color Value: purple\n",
      "Key: hometown Value: Chicago\n"
     ]
    }
   ],
   "source": [
    "for key, value in my_info.items():\n",
    "    print(f\"Key: {key} Value: {value}\")"
   ]
  },
  {
   "cell_type": "code",
   "execution_count": 112,
   "metadata": {},
   "outputs": [
    {
     "name": "stdout",
     "output_type": "stream",
     "text": [
      "The 2015 Car of the Year was a Ford Explorer\n",
      "The 2017 Car of the Year was a Toyota Camry\n",
      "The 2019 Car of the Year was a Chevy Silverado\n"
     ]
    }
   ],
   "source": [
    "cars = {\n",
    "    2015: 'Ford Explorer',\n",
    "    2016: 'Dodge Caravan',\n",
    "    2017: 'Toyota Camry',\n",
    "    2018: 'Honda Accord',\n",
    "    2019: 'Chevy Silverado'\n",
    "}\n",
    "\n",
    "# The winner of the best car per year\n",
    "# Print out a statement saying which car won each year, but only for the odd years\n",
    "\n",
    "for year, car in cars.items():\n",
    "    if year % 2 == 1:\n",
    "        print(f\"The {year} Car of the Year was a {car}\")"
   ]
  },
  {
   "cell_type": "code",
   "execution_count": 124,
   "metadata": {},
   "outputs": [
    {
     "name": "stdout",
     "output_type": "stream",
     "text": [
      "['Brian', 'Shoha', 'Sam', 'Nate']\n",
      "<class 'list'>\n",
      "SAM\n"
     ]
    }
   ],
   "source": [
    "coding_temple = {\n",
    "    'instructors': ['Brian', 'Shoha', 'Sam', 'Nate'],\n",
    "    'dept_heads': ['Joel', 'Nicole', 'Marlene'],\n",
    "    'executives': ['Ryan', 'Ripal', 'Frank']\n",
    "}\n",
    "\n",
    "\n",
    "print(coding_temple['instructors'])\n",
    "print(type(coding_temple['instructors']))\n",
    "\n",
    "print(coding_temple['instructors'][2].upper())"
   ]
  },
  {
   "cell_type": "code",
   "execution_count": 148,
   "metadata": {},
   "outputs": [
    {
     "name": "stdout",
     "output_type": "stream",
     "text": [
      "<class 'list'>\n",
      "Ryan\n",
      "Ripal\n",
      "Frank\n"
     ]
    }
   ],
   "source": [
    "executives = ['Ryan', 'Ripal', 'Frank']\n",
    "\n",
    "print(type(executives))\n",
    "for i in executives:\n",
    "    print(i)"
   ]
  },
  {
   "cell_type": "code",
   "execution_count": 146,
   "metadata": {},
   "outputs": [
    {
     "name": "stdout",
     "output_type": "stream",
     "text": [
      "<class 'dict'>\n",
      "<class 'list'>\n"
     ]
    }
   ],
   "source": [
    "print(type(coding_temple))\n",
    "print(type(coding_temple['executives']))"
   ]
  },
  {
   "cell_type": "code",
   "execution_count": 151,
   "metadata": {},
   "outputs": [
    {
     "data": {
      "text/plain": [
       "True"
      ]
     },
     "execution_count": 151,
     "metadata": {},
     "output_type": "execute_result"
    }
   ],
   "source": [
    "coding_temple['executives'] == executives"
   ]
  },
  {
   "cell_type": "code",
   "execution_count": 150,
   "metadata": {},
   "outputs": [
    {
     "data": {
      "text/plain": [
       "['Ryan', 'Ripal', 'Frank']"
      ]
     },
     "execution_count": 150,
     "metadata": {},
     "output_type": "execute_result"
    }
   ],
   "source": [
    "executives"
   ]
  },
  {
   "cell_type": "code",
   "execution_count": 144,
   "metadata": {},
   "outputs": [
    {
     "name": "stdout",
     "output_type": "stream",
     "text": [
      "['Ryan', 'Ripal', 'Frank']\n",
      "Ryan\n",
      "Ripal\n",
      "Frank\n"
     ]
    }
   ],
   "source": [
    "print(coding_temple['executives'])\n",
    "\n",
    "for i in coding_temple['executives']:\n",
    "    print(i)"
   ]
  },
  {
   "cell_type": "code",
   "execution_count": 140,
   "metadata": {},
   "outputs": [
    {
     "name": "stdout",
     "output_type": "stream",
     "text": [
      "[{'league': 'MLB', 'name': 'White Sox'}, {'league': 'NFL', 'name': 'Bears'}, {'league': 'NBA', 'name': 'Bulls'}, {'league': 'NHL', 'name': 'Blackhawks'}]\n",
      "<class 'list'>\n",
      "White Sox\n",
      "Bears\n",
      "Bulls\n",
      "Blackhawks\n"
     ]
    }
   ],
   "source": [
    "chicago_teams = [\n",
    "    {'league': 'MLB', 'name': 'White Sox'}, \n",
    "    {'league': 'NFL', 'name': 'Bears'}, \n",
    "    {'league': 'NBA', 'name': 'Bulls'},\n",
    "    {'league': 'NHL', 'name': 'Blackhawks'}\n",
    "]\n",
    "\n",
    "print(chicago_teams)\n",
    "print(type(chicago_teams))\n",
    "\n",
    "for team in chicago_teams:\n",
    "#     print(team)\n",
    "#     print(type(team))\n",
    "    print(team['name'])\n",
    "    "
   ]
  },
  {
   "cell_type": "code",
   "execution_count": 136,
   "metadata": {},
   "outputs": [
    {
     "name": "stdout",
     "output_type": "stream",
     "text": [
      "White Sox\n"
     ]
    }
   ],
   "source": [
    "x = {'league': 'MLB', 'name': 'White Sox'}\n",
    "\n",
    "print(x['name'])"
   ]
  },
  {
   "cell_type": "code",
   "execution_count": 4,
   "metadata": {},
   "outputs": [],
   "source": [
    "import requests\n",
    "\n",
    "a = requests.get('https://pokeapi.co/api/v2/ability/2')\n",
    "\n",
    "abilities = a.json()"
   ]
  },
  {
   "cell_type": "code",
   "execution_count": 26,
   "metadata": {},
   "outputs": [
    {
     "name": "stdout",
     "output_type": "stream",
     "text": [
      "en\n",
      "en\n",
      "en\n",
      "en\n",
      "en\n",
      "en\n",
      "fr\n",
      "en\n",
      "en\n",
      "ja-Hrkt\n",
      "ko\n",
      "fr\n",
      "de\n",
      "es\n",
      "it\n",
      "en\n",
      "ja\n",
      "ja-Hrkt\n",
      "ko\n",
      "fr\n",
      "de\n",
      "es\n",
      "it\n",
      "en\n",
      "ja\n",
      "ja-Hrkt\n",
      "ko\n",
      "zh-Hant\n",
      "fr\n",
      "de\n",
      "es\n",
      "it\n",
      "en\n",
      "ja\n",
      "zh-Hans\n",
      "ja-Hrkt\n",
      "ko\n",
      "zh-Hant\n",
      "fr\n",
      "de\n",
      "es\n",
      "it\n",
      "en\n",
      "ja\n",
      "zh-Hans\n"
     ]
    }
   ],
   "source": [
    "for i in abilities['flavor_text_entries']:\n",
    "    print(i['language']['name'])"
   ]
  },
  {
   "cell_type": "code",
   "execution_count": 22,
   "metadata": {
    "scrolled": true
   },
   "outputs": [
    {
     "name": "stdout",
     "output_type": "stream",
     "text": [
      "en\n",
      "en\n",
      "en\n",
      "en\n",
      "en\n",
      "en\n",
      "fr\n",
      "en\n",
      "en\n",
      "ja-Hrkt\n",
      "ko\n",
      "fr\n",
      "de\n",
      "es\n",
      "it\n",
      "en\n",
      "ja\n",
      "ja-Hrkt\n",
      "ko\n",
      "fr\n",
      "de\n",
      "es\n",
      "it\n",
      "en\n",
      "ja\n",
      "ja-Hrkt\n",
      "ko\n",
      "zh-Hant\n",
      "fr\n",
      "de\n",
      "es\n",
      "it\n",
      "en\n",
      "ja\n",
      "zh-Hans\n",
      "ja-Hrkt\n",
      "ko\n",
      "zh-Hant\n",
      "fr\n",
      "de\n",
      "es\n",
      "it\n",
      "en\n",
      "ja\n",
      "zh-Hans\n"
     ]
    }
   ],
   "source": [
    "for flavor in abilities['flavor_text_entries']:\n",
    "    print(flavor['language']['name'])"
   ]
  },
  {
   "cell_type": "markdown",
   "metadata": {},
   "source": [
    "### Sets"
   ]
  },
  {
   "cell_type": "code",
   "execution_count": 135,
   "metadata": {},
   "outputs": [
    {
     "name": "stdout",
     "output_type": "stream",
     "text": [
      "set()\n",
      "<class 'set'>\n",
      "{1, 2, 3}\n",
      "<class 'set'>\n",
      "{'l', 'H', 'e', 'o'}\n",
      "<class 'set'>\n"
     ]
    }
   ],
   "source": [
    "# Syntax of a set: var = set() (Empty set) OR var = {num1,num2}\n",
    "\n",
    "nums = set()\n",
    "print(nums)\n",
    "print(type(nums))\n",
    "\n",
    "nums2 = {1, 2, 3}\n",
    "print(nums2)\n",
    "print(type(nums2))\n",
    "\n",
    "nums3 = set('Hello')\n",
    "print(nums3)\n",
    "print(type(nums3))"
   ]
  },
  {
   "cell_type": "code",
   "execution_count": 30,
   "metadata": {},
   "outputs": [],
   "source": [
    "my_set = {1, 56, 2, 4, 99, 3, 4, 2}"
   ]
  },
  {
   "cell_type": "code",
   "execution_count": 37,
   "metadata": {},
   "outputs": [
    {
     "name": "stdout",
     "output_type": "stream",
     "text": [
      "{1, 2, 99, 4, 3, 56}\n"
     ]
    },
    {
     "data": {
      "text/plain": [
       "{1, 2, 3, 4, 56, 99}"
      ]
     },
     "execution_count": 37,
     "metadata": {},
     "output_type": "execute_result"
    }
   ],
   "source": [
    "print(my_set)\n",
    "my_set"
   ]
  },
  {
   "cell_type": "code",
   "execution_count": 32,
   "metadata": {},
   "outputs": [],
   "source": [
    "new_set = {1, 4, 6}"
   ]
  },
  {
   "cell_type": "code",
   "execution_count": 35,
   "metadata": {},
   "outputs": [
    {
     "name": "stdout",
     "output_type": "stream",
     "text": [
      "{56, 1, 4, 6}\n"
     ]
    }
   ],
   "source": [
    "new_set.add(56)\n",
    "\n",
    "print(new_set)"
   ]
  },
  {
   "cell_type": "code",
   "execution_count": 38,
   "metadata": {},
   "outputs": [
    {
     "data": {
      "text/plain": [
       "{'goodbye', 'hello'}"
      ]
     },
     "execution_count": 38,
     "metadata": {},
     "output_type": "execute_result"
    }
   ],
   "source": [
    "word_set = {'hello', 'hello', 'goodbye'}\n",
    "word_set"
   ]
  },
  {
   "cell_type": "code",
   "execution_count": 107,
   "metadata": {},
   "outputs": [
    {
     "name": "stdout",
     "output_type": "stream",
     "text": [
      "{<function my_func at 0x0000021262C10B80>, 1, 2, 'hello'}\n"
     ]
    }
   ],
   "source": [
    "def my_func():\n",
    "    pass\n",
    "\n",
    "combo_set = {1, 2, 'hello', my_func}\n",
    "\n",
    "print(combo_set)"
   ]
  },
  {
   "cell_type": "code",
   "execution_count": 108,
   "metadata": {},
   "outputs": [
    {
     "data": {
      "text/plain": [
       "{1, 4, 6, 10, 56}"
      ]
     },
     "execution_count": 108,
     "metadata": {},
     "output_type": "execute_result"
    }
   ],
   "source": [
    "new_set.add(10)\n",
    "new_set"
   ]
  },
  {
   "cell_type": "code",
   "execution_count": 109,
   "metadata": {},
   "outputs": [],
   "source": [
    "new_list = [1, 4, 6, 10, 56]"
   ]
  },
  {
   "cell_type": "code",
   "execution_count": 112,
   "metadata": {},
   "outputs": [
    {
     "data": {
      "text/plain": [
       "[1, 4, 6, 10, 56, 10, 10, 10]"
      ]
     },
     "execution_count": 112,
     "metadata": {},
     "output_type": "execute_result"
    }
   ],
   "source": [
    "new_list.append(10)\n",
    "new_list"
   ]
  },
  {
   "cell_type": "code",
   "execution_count": 115,
   "metadata": {},
   "outputs": [
    {
     "data": {
      "text/plain": [
       "{1, 10, 4, 56, 6, 'String'}"
      ]
     },
     "execution_count": 115,
     "metadata": {},
     "output_type": "execute_result"
    }
   ],
   "source": [
    "new_set.add('String')\n",
    "new_set"
   ]
  },
  {
   "cell_type": "code",
   "execution_count": 116,
   "metadata": {},
   "outputs": [],
   "source": [
    "new_set.add(1.2)"
   ]
  },
  {
   "cell_type": "code",
   "execution_count": 117,
   "metadata": {},
   "outputs": [
    {
     "data": {
      "text/plain": [
       "{1, 1.2, 10, 4, 56, 6, 'String'}"
      ]
     },
     "execution_count": 117,
     "metadata": {},
     "output_type": "execute_result"
    }
   ],
   "source": [
    "new_set"
   ]
  },
  {
   "cell_type": "code",
   "execution_count": 118,
   "metadata": {},
   "outputs": [
    {
     "data": {
      "text/plain": [
       "{1, 1.2, 10, 4, 6, 'String'}"
      ]
     },
     "execution_count": 118,
     "metadata": {},
     "output_type": "execute_result"
    }
   ],
   "source": [
    "new_set.remove(56)\n",
    "new_set"
   ]
  },
  {
   "cell_type": "code",
   "execution_count": 120,
   "metadata": {},
   "outputs": [
    {
     "name": "stdout",
     "output_type": "stream",
     "text": [
      "True\n"
     ]
    }
   ],
   "source": [
    "my_list = [1, 2, 3, 4, 5, 6, 7, 8, 9, 10]\n",
    "my_set = {1, 2, 3, 4, 5, 6, 7, 8, 9, 10}\n",
    "\n",
    "if 10 in my_set:\n",
    "    print('True')"
   ]
  },
  {
   "cell_type": "code",
   "execution_count": 146,
   "metadata": {},
   "outputs": [
    {
     "name": "stdout",
     "output_type": "stream",
     "text": [
      "{1, 2, 3, 4, 5, 6}\n",
      "{1, 2, 3, 4, 5, 6}\n",
      "{3, 4}\n",
      "{3, 4}\n",
      "{1, 2}\n",
      "{1, 2}\n",
      "{5, 6}\n",
      "{5, 6}\n"
     ]
    }
   ],
   "source": [
    "set1 = {1, 2, 3, 4}\n",
    "set2 = {3, 4, 5, 6}\n",
    "\n",
    "# Unions with sets (All elements between the sets)\n",
    "set3 = set1.union(set2)\n",
    "print(set3)\n",
    "\n",
    "set4 = set2 | set1\n",
    "print(set4)\n",
    "\n",
    "\n",
    "# Intersections with sets (Common elements between the two sets)\n",
    "set5 = set2.intersection(set1)\n",
    "print(set5)\n",
    "\n",
    "set6 = set1 & set2\n",
    "print(set6)\n",
    "\n",
    "\n",
    "# Difference with sets (Unique elements from first set minus second set (ORDER MATTERS))\n",
    "set7 = set1.difference(set2)\n",
    "print(set7)\n",
    "\n",
    "set9 = set1 - set2\n",
    "print(set9)\n",
    "\n",
    "set8 = set2.difference(set1)\n",
    "print(set8)\n",
    "\n",
    "set10 = set2 - set1\n",
    "print(set10)"
   ]
  },
  {
   "cell_type": "code",
   "execution_count": 147,
   "metadata": {},
   "outputs": [
    {
     "data": {
      "text/plain": [
       "[1, 2, 3]"
      ]
     },
     "execution_count": 147,
     "metadata": {},
     "output_type": "execute_result"
    }
   ],
   "source": [
    "non_unique_list = [1, 1, 1, 1, 1, 1, 2, 2, 2, 2, 2, 2, 3, 3, 3, 3, 3, 3, 3]\n",
    "\n",
    "def make_unique(a_list):\n",
    "    return list(set(a_list))\n",
    "\n",
    "\n",
    "make_unique(non_unique_list)"
   ]
  },
  {
   "cell_type": "code",
   "execution_count": null,
   "metadata": {},
   "outputs": [],
   "source": []
  }
 ],
 "metadata": {
  "kernelspec": {
   "display_name": "Python 3",
   "language": "python",
   "name": "python3"
  }
 },
 "nbformat": 4,
 "nbformat_minor": 4
}
