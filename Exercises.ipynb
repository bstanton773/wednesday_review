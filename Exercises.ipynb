{
 "cells": [
  {
   "cell_type": "markdown",
   "metadata": {},
   "source": [
    "### Exercise 1"
   ]
  },
  {
   "cell_type": "markdown",
   "metadata": {},
   "source": [
    "Roman numerals are represented by seven different symbols: <code>I, V, X, L, C, D and M.</code>\n",
    "\n",
    "<code>Symbol       Value\n",
    "I             1\n",
    "V             5\n",
    "X             10\n",
    "L             50\n",
    "C             100\n",
    "D             500\n",
    "M             1000\n",
    "</code>\n",
    "<p>\n",
    "    For example, <code>2</code> is written as <code>II</code> in Roman numeral, just two one's added together. <code>12</code> is written as <code>XII</code>, which is simply <code>X + II</code>. The number <code>27</code> is written as <code>XXVII</code>, which is <code>XX + V + II</code>.\n",
    "</p>\n",
    "<p>\n",
    "Roman numerals are usually written largest to smallest from left to right. However, the numeral for four is not <code>IIII</code>. Instead, the number four is written as <code>IV</code>. Because the one is before the five we subtract it making four. The same principle applies to the number nine, which is written as <code>IX</code>. There are six instances where subtraction is used:\n",
    "</p>\n",
    "<code>I can be placed before V (5) and X (10) to make 4 and 9. \n",
    "X can be placed before L (50) and C (100) to make 40 and 90. \n",
    "C can be placed before D (500) and M (1000) to make 400 and 900.\n",
    "Given a roman numeral, convert it to an integer.\n",
    "</code>\n",
    "\n",
    "Example 1:\n",
    "Input: <code>s = \"III\"</code><br>\n",
    "Output: <code>3</code><br>\n",
    "\n",
    "Example 2:\n",
    "Input: <code>s = \"IV\"</code><br>\n",
    "Output: <code>4</code><br>\n",
    "\n",
    "Example 3:\n",
    "Input: <code>s = \"IX\"</code><br>\n",
    "Output: <code>9</code><br>\n",
    "\n",
    "Example 4:\n",
    "Input: <code>s = \"LVIII\"</code><br>\n",
    "Output: <code>58</code><br>\n",
    "Explanation: <code>L = 50, V= 5, III = 3.</code><br>\n",
    "\n",
    "Example 5:\n",
    "Input: <code>s = \"MCMXCIV\"</code><br>\n",
    "Output: <code>1994</code><br>\n",
    "Explanation: <code>M = 1000, CM = 900, XC = 90 and IV = 4.</code><br>"
   ]
  },
  {
   "cell_type": "code",
   "execution_count": null,
   "metadata": {},
   "outputs": [],
   "source": [
    "def roman_to_int(roman):\n",
    "    \n",
    "    return # Integer\n",
    "\n",
    "\n",
    "roman_to_int('III') # 3\n",
    "roman_to_int('MCMXCIV') # 1994"
   ]
  },
  {
   "cell_type": "code",
   "execution_count": null,
   "metadata": {},
   "outputs": [],
   "source": []
  },
  {
   "cell_type": "markdown",
   "metadata": {},
   "source": [
    "### Exercise 2"
   ]
  },
  {
   "cell_type": "markdown",
   "metadata": {},
   "source": [
    "Given a sentence as a string, find the longest word in the sentence. You may assume punctuation marks are a part of the word.\n",
    "\n",
    "Example 1:\n",
    "Input: <code>s = \"Hello this is a test of your knowledge on python strings, dictionaries, lists, and loops\"</code><br>\n",
    "Output: <code>\"dictionaries,\"</code><br>\n",
    "Explanation: <code>dictionaries,</code> is the longest word in the the sentence with 13 letters<br>\n",
    "\n",
    "Example 2:\n",
    "Input: <code>s = \"This sentence is awesome\"</code><br>\n",
    "Output: <code>\"sentence\"</code><br>\n"
   ]
  },
  {
   "cell_type": "code",
   "execution_count": null,
   "metadata": {},
   "outputs": [],
   "source": []
  }
 ],
 "metadata": {
  "kernelspec": {
   "display_name": "Python 3",
   "language": "python",
   "name": "python3"
  },
  "language_info": {
   "codemirror_mode": {
    "name": "ipython",
    "version": 3
   },
   "file_extension": ".py",
   "mimetype": "text/x-python",
   "name": "python",
   "nbconvert_exporter": "python",
   "pygments_lexer": "ipython3",
   "version": "3.8.5"
  }
 },
 "nbformat": 4,
 "nbformat_minor": 4
}
